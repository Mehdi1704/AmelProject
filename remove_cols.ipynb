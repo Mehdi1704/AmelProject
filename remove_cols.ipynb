{
 "cells": [
  {
   "cell_type": "code",
   "execution_count": 4,
   "metadata": {},
   "outputs": [],
   "source": [
    "import csv\n",
    "import numpy as np"
   ]
  },
  {
   "cell_type": "code",
   "execution_count": 1,
   "metadata": {},
   "outputs": [],
   "source": [
    "def get_column_indices(file_path, columns_to_drop):\n",
    "    with open(file_path, 'r') as file:\n",
    "        reader = csv.reader(file)\n",
    "        header = next(reader)\n",
    "        header = header[1:]\n",
    "        indices_to_drop = [header.index(col) for col in columns_to_drop if col in header]\n",
    "        return indices_to_drop, header"
   ]
  },
  {
   "cell_type": "code",
   "execution_count": 6,
   "metadata": {},
   "outputs": [
    {
     "data": {
      "text/plain": [
       "166"
      ]
     },
     "execution_count": 6,
     "metadata": {},
     "output_type": "execute_result"
    }
   ],
   "source": [
    "variables = [\n",
    "    \"FMONTH\", \"IDATE\", \"IMONTH\", \"IDAY\", \"IYEAR\", \"SEQNO\", \"_PSU\", \"LADULT\", \"CTELENUM\", \n",
    "    \"PVTRESD1\", \"COLGHOUS\", \"STATERES\", \"CELLFON3\", \"CTELNUM1\", \"CELLFON2\", \"CADULT\", \n",
    "    \"PVTRESD2\", \"CCLGHOUS\", \"CSTATE\", \"LANDLINE\", \"HHADULT\", \"NUMHHOL2\", \"NUMPHON2\", \n",
    "    \"CPDEMO1\", \"PREGNANT\", \"BLIND\", \"EXRACT11\", \"EXRACT21\", \"HIVTST6\", \"HIVTSTD3\", \n",
    "    \"PAINACT2\", \"QLMENTL2\", \"QLSTRES2\", \"QLHLTH2\", \"CAREGIV1\", \"CRGVREL1\", \"CRGVLNG1\", \n",
    "    \"CRGVHRS1\", \"CRGVPRB1\", \"CRGVPERS\", \"CRGVHOUS\", \"CRGVMST2\", \"CRGVEXPT\", \"VIDFCLT2\", \n",
    "    \"VIREDIF3\", \"VIPRFVS2\", \"VINOCRE2\", \"VIEYEXM2\", \"VIINSUR2\", \"VICTRCT4\", \"VIMACDG2\", \n",
    "    \"VIGLUMA2\", \"CIMEMLOS\", \"CDHOUSE\", \"CDASSIST\", \"CDHELP\", \"CDSOCIAL\", \"CDDISCUS\", \n",
    "    \"HOWLONG\", \"LASTPAP2\", \"HPLSTTST\", \"PROFEXAM\", \"LENGEXAM\", \"LSTBLDS3\", \"HADSGCO1\", \n",
    "    \"LASTSIG3\", \"PCPSAAD2\", \"PCPSADI1\", \"PCPSARE1\", \"PSATIME\", \"PCPSARS1\", \"PCPSADE1\", \n",
    "    \"PCDMDECN\", \"SCNTPAID\", \"SCNTWRK1\", \"SXORIENT\", \"TRNSGNDR\", \"RCSGENDR\", \"RCSRLTN2\", \n",
    "    \"CASTHDX2\", \"CASTHNO2\", \"QSTVER\", \"QSTLANG\", \"EXACTOT1\", \"EXACTOT2\", \"_STSTR\", \n",
    "    \"_STRWT\", \"_RAWRAKE\", \"_WT2RAKE\", \"_CHISPNC\", \"_CRACE1\", \"_CPRACE\", \"_CLLCPWT\", \n",
    "    \"_DUALUSE\", \"_DUALCOR\", \"_LLCPWT\", \"_PRACE1\", \"FEETCHK2\", \"PAINACT2\", \"QLMENTL2\", \n",
    "    \"QLSTRES2\", \"QLHLTH2\", \"CAREGIV1\", \"CRGVREL1\", \"CRGVLNG1\", \"CRGVHRS1\", \"CRGVPRB1\", \n",
    "    \"CRGVPERS\", \"CRGVHOUS\", \"CRGVMST2\", \"CRGVEXPT\", \"VIDFCLT2\", \"VIREDIF3\", \"VIPRFVS2\", \n",
    "    \"VINOCRE2\", \"VIEYEXM2\", \"VIINSUR2\", \"VICTRCT4\", \"VIGLUMA2\", \"VIMACDG2\", \"ASTHMAGE\", \n",
    "    \"ASATTACK\", \"ASERVIST\", \"ASDRVIST\", \"ASRCHKUP\", \"ASACTLIM\", \"ASYMPTOM\", \"ASNOSLEP\", \n",
    "    \"ASTHMED3\", \"ASINHALR\", \"HPVADVC2\", \"HPVADSHT\", \"_AGE_G\", \"HTIN4\", \"_CHLDCNT\", \n",
    "    \"_DRNKWEK\", \"FTJUDA1_\", \"FRUTDA1_\", \"BEANDAY_\", \"GRENDAY_\", \"ORNGDAY_\", \"VEGEDA1_\", \n",
    "    \"_MISFRTN\", \"_MISVEGN\", \"_FRTRESP\", \"_VEGRESP\", \"_FRT16\", \"_VEG23\", \"_FRUITEX\", \n",
    "    \"_VEGETEX\", \"PAMISS1_\", \"_PA150R2\", \"_PA300R2\", \"_PA30021\", \"_PASTRNG\", \"_PAREC1\", \n",
    "    \"_PASTAE1\", \"_LMTACT1\", \"_LMTWRK1\", \"_LMTSCL1\", \"_RFSEAT3\", \"_RACE\", \"_RACEG21\", \n",
    "    \"_RACE_G1\", \"_AGEG5YR\", \"_AGE65YR\"\n",
    "]\n",
    "variables.__len__()\n"
   ]
  },
  {
   "cell_type": "code",
   "execution_count": 8,
   "metadata": {},
   "outputs": [],
   "source": [
    "x_train = np.genfromtxt('dataset/x_train.csv', delimiter=',', skip_header=1)\n",
    "indices_to_drop, header = get_column_indices(\"dataset/x_train.csv\", variables)\n",
    "\n",
    "# Load csv x_train, skipping the header row\n",
    "\n",
    "x_train = np.delete(x_train, indices_to_drop, axis=1)\n",
    "header = np.delete(header, indices_to_drop)\n"
   ]
  },
  {
   "cell_type": "code",
   "execution_count": 9,
   "metadata": {},
   "outputs": [],
   "source": [
    "with open('dataset/x_test_cleaned_mehdi.csv', 'w', newline='') as f:\n",
    "    writer = csv.writer(f)\n",
    "    writer.writerow(header)\n",
    "    writer.writerows(x_train)"
   ]
  },
  {
   "cell_type": "code",
   "execution_count": 24,
   "metadata": {},
   "outputs": [
    {
     "data": {
      "text/plain": [
       "array([], dtype=int64)"
      ]
     },
     "execution_count": 24,
     "metadata": {},
     "output_type": "execute_result"
    }
   ],
   "source": [
    "discode_index = np.where(header == 'DISPCODE')[0][0]\n",
    "x_train = x_train[np.where(x_train[:, discode_index] != '1200.0')]\n"
   ]
  },
  {
   "cell_type": "code",
   "execution_count": 20,
   "metadata": {},
   "outputs": [],
   "source": [
    "with open('dataset/x_test_cleaned_mehdi.csv', 'w', newline='') as f:\n",
    "    writer = csv.writer(f)\n",
    "    writer.writerow(header)\n",
    "    writer.writerows(x_train)"
   ]
  },
  {
   "cell_type": "code",
   "execution_count": null,
   "metadata": {},
   "outputs": [],
   "source": []
  }
 ],
 "metadata": {
  "kernelspec": {
   "display_name": "ada",
   "language": "python",
   "name": "python3"
  },
  "language_info": {
   "codemirror_mode": {
    "name": "ipython",
    "version": 3
   },
   "file_extension": ".py",
   "mimetype": "text/x-python",
   "name": "python",
   "nbconvert_exporter": "python",
   "pygments_lexer": "ipython3",
   "version": "3.11.9"
  }
 },
 "nbformat": 4,
 "nbformat_minor": 2
}
