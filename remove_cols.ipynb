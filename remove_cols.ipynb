{
 "cells": [
  {
   "cell_type": "code",
   "execution_count": 1,
   "metadata": {},
   "outputs": [],
   "source": [
    "import csv\n",
    "import numpy as np"
   ]
  },
  {
   "cell_type": "code",
   "execution_count": 2,
   "metadata": {},
   "outputs": [],
   "source": [
    "def get_column_indices(file_path, columns_to_drop):\n",
    "    with open(file_path, 'r') as file:\n",
    "        reader = csv.reader(file)\n",
    "        header = next(reader)\n",
    "        header = header[1:]\n",
    "        indices_to_drop = [header.index(col) for col in columns_to_drop if col in header]\n",
    "        return indices_to_drop, header"
   ]
  },
  {
   "cell_type": "code",
   "execution_count": 3,
   "metadata": {},
   "outputs": [],
   "source": [
    "variables = [\n",
    "    \"FMONTH\", \"IDATE\", \"IMONTH\", \"IDAY\", \"IYEAR\", \"SEQNO\", \"_PSU\", \"LADULT\", \"CTELENUM\", \n",
    "    \"PVTRESD1\", \"COLGHOUS\", \"STATERES\", \"CELLFON3\", \"CTELNUM1\", \"CELLFON2\", \"CADULT\", \n",
    "    \"PVTRESD2\", \"CCLGHOUS\", \"CSTATE\", \"LANDLINE\", \"HHADULT\", \"NUMHHOL2\", \"NUMPHON2\", \n",
    "    \"CPDEMO1\", \"PREGNANT\", \"BLIND\", \"EXRACT11\", \"EXRACT21\", \"HIVTST6\", \"HIVTSTD3\", \n",
    "    \"PAINACT2\", \"QLMENTL2\", \"QLSTRES2\", \"QLHLTH2\", \"CAREGIV1\", \"CRGVREL1\", \"CRGVLNG1\", \n",
    "    \"CRGVHRS1\", \"CRGVPRB1\", \"CRGVPERS\", \"CRGVHOUS\", \"CRGVMST2\", \"CRGVEXPT\", \"VIDFCLT2\", \n",
    "    \"VIREDIF3\", \"VIPRFVS2\", \"VINOCRE2\", \"VIEYEXM2\", \"VIINSUR2\", \"VICTRCT4\", \"VIMACDG2\", \n",
    "    \"VIGLUMA2\", \"CIMEMLOS\", \"CDHOUSE\", \"CDASSIST\", \"CDHELP\", \"CDSOCIAL\", \"CDDISCUS\", \n",
    "    \"HOWLONG\", \"LASTPAP2\", \"HPLSTTST\", \"PROFEXAM\", \"LENGEXAM\", \"LSTBLDS3\", \"HADSGCO1\", \n",
    "    \"LASTSIG3\", \"PCPSAAD2\", \"PCPSADI1\", \"PCPSARE1\", \"PSATIME\", \"PCPSARS1\", \"PCPSADE1\", \n",
    "    \"PCDMDECN\", \"SCNTPAID\", \"SCNTWRK1\", \"SXORIENT\", \"TRNSGNDR\", \"RCSGENDR\", \"RCSRLTN2\", \n",
    "    \"CASTHDX2\", \"CASTHNO2\", \"QSTVER\", \"QSTLANG\", \"EXACTOT1\", \"EXACTOT2\", \"_STSTR\", \n",
    "    \"_STRWT\", \"_RAWRAKE\", \"_WT2RAKE\", \"_CHISPNC\", \"_CRACE1\", \"_CPRACE\", \"_CLLCPWT\", \n",
    "    \"_DUALUSE\", \"_DUALCOR\", \"_LLCPWT\", \"_PRACE1\", \"FEETCHK2\", \"PAINACT2\", \"QLMENTL2\", \n",
    "    \"QLSTRES2\", \"QLHLTH2\", \"CAREGIV1\", \"CRGVREL1\", \"CRGVLNG1\", \"CRGVHRS1\", \"CRGVPRB1\", \n",
    "    \"CRGVPERS\", \"CRGVHOUS\", \"CRGVMST2\", \"CRGVEXPT\", \"VIDFCLT2\", \"VIREDIF3\", \"VIPRFVS2\", \n",
    "    \"VINOCRE2\", \"VIEYEXM2\", \"VIINSUR2\", \"VICTRCT4\", \"VIGLUMA2\", \"VIMACDG2\", \"ASTHMAGE\", \n",
    "    \"ASATTACK\", \"ASERVIST\", \"ASDRVIST\", \"ASRCHKUP\", \"ASACTLIM\", \"ASYMPTOM\", \"ASNOSLEP\", \n",
    "    \"ASTHMED3\", \"ASINHALR\", \"HPVADVC2\", \"HPVADSHT\", \"_AGE_G\", \"HTIN4\", \"_CHLDCNT\", \n",
    "    \"_DRNKWEK\", \"FTJUDA1_\", \"FRUTDA1_\", \"BEANDAY_\", \"GRENDAY_\", \"ORNGDAY_\", \"VEGEDA1_\", \n",
    "    \"_MISFRTN\", \"_MISVEGN\", \"_FRTRESP\", \"_VEGRESP\", \"_FRT16\", \"_VEG23\", \"_FRUITEX\", \n",
    "    \"_VEGETEX\", \"PAMISS1_\", \"_PA150R2\", \"_PA300R2\", \"_PA30021\", \"_PASTRNG\", \"_PAREC1\", \n",
    "    \"_PASTAE1\", \"_LMTACT1\", \"_LMTWRK1\", \"_LMTSCL1\", \"_RFSEAT3\", \"_RACE\", \"_RACEG21\", \n",
    "    \"_RACE_G1\", \"_AGEG5YR\", \"_AGE65YR\"\n",
    "]"
   ]
  },
  {
   "cell_type": "code",
   "execution_count": 4,
   "metadata": {},
   "outputs": [],
   "source": [
    "filepath= \"dataset/x_test.csv\"\n",
    "\n",
    "# Read the data using the csv module\n",
    "with open(filepath, 'r') as file:\n",
    "    reader = csv.reader(file)\n",
    "    data = list(reader)\n",
    "\n",
    "# Extract header and data separately\n",
    "header = data[0]\n",
    "x_train = data[1:]\n",
    "indices_to_drop, header = get_column_indices(filepath, variables)\n",
    "\n",
    "# Load csv x_train, skipping the header row\n",
    "x_train = np.delete(x_train, indices_to_drop, axis=1)\n",
    "header = np.delete(header, indices_to_drop)\n",
    "\n",
    "\n"
   ]
  },
  {
   "cell_type": "code",
   "execution_count": 5,
   "metadata": {},
   "outputs": [],
   "source": [
    "with open('dataset/x_test_cleaned_mehdi.csv', 'w', newline='') as f:\n",
    "    writer = csv.writer(f)\n",
    "    writer.writerow(header)\n",
    "    writer.writerows(x_train)"
   ]
  },
  {
   "cell_type": "code",
   "execution_count": 6,
   "metadata": {},
   "outputs": [
    {
     "name": "stdout",
     "output_type": "stream",
     "text": [
      "[1, 2, 3, 4, 5, 7, 8, 14, 9, 10, 11, 12, 13, 18, 19, 20, 21, 22, 23, 24, 25, 54, 55, 56, 64, 67, 88, 91, 104, 105, 118, 119, 120, 121, 122, 123, 124, 125, 126, 127, 128, 129, 130, 131, 132, 133, 135, 134, 136, 137, 138, 139, 140, 141, 171, 173, 175, 177, 178, 180, 182, 183, 184, 185, 186, 188, 189, 190, 191, 194, 195, 198, 199, 200, 201, 202, 203, 216, 217, 219, 220, 221, 222, 223, 224, 225, 226, 227, 228, 229, 239, 111, 118, 119, 120, 121, 122, 123, 124, 125, 126, 127, 128, 129, 130, 131, 132, 133, 134, 135, 145, 146, 147, 148, 149, 150, 151, 152, 153, 154, 167, 168, 249, 250, 256, 264, 266, 267, 268, 269, 270, 271, 272, 273, 274, 275, 280, 281, 282, 283, 298, 307, 308, 309, 310, 311, 312, 313, 314, 315, 317, 242, 243, 245, 246, 247]\n",
      "['_STATE' 'DISPCODE' 'NUMADULT' 'NUMMEN' 'NUMWOMEN' 'GENHLTH' 'PHYSHLTH'\n",
      " 'MENTHLTH' 'POORHLTH' 'HLTHPLN1' 'PERSDOC2' 'MEDCOST' 'CHECKUP1'\n",
      " 'BPHIGH4' 'BPMEDS' 'BLOODCHO' 'CHOLCHK' 'TOLDHI2' 'CVDSTRK3' 'ASTHMA3'\n",
      " 'ASTHNOW' 'CHCSCNCR' 'CHCOCNCR' 'CHCCOPD1' 'HAVARTH3' 'ADDEPEV2'\n",
      " 'CHCKIDNY' 'DIABETE3' 'DIABAGE2' 'SEX' 'MARITAL' 'EDUCA' 'RENTHOM1'\n",
      " 'VETERAN3' 'EMPLOY1' 'CHILDREN' 'INCOME2' 'INTERNET' 'WEIGHT2' 'HEIGHT3'\n",
      " 'QLACTLM2' 'USEEQUIP' 'DECIDE' 'DIFFWALK' 'DIFFDRES' 'DIFFALON'\n",
      " 'SMOKE100' 'SMOKDAY2' 'STOPSMK2' 'LASTSMK2' 'USENOW3' 'ALCDAY5'\n",
      " 'AVEDRNK2' 'DRNK3GE5' 'MAXDRNKS' 'FRUITJU1' 'FRUIT1' 'FVBEANS' 'FVGREEN'\n",
      " 'FVORANG' 'VEGETAB1' 'EXERANY2' 'EXEROFT1' 'EXERHMM1' 'EXEROFT2'\n",
      " 'EXERHMM2' 'STRENGTH' 'LMTJOIN3' 'ARTHDIS2' 'ARTHSOCL' 'JOINPAIN'\n",
      " 'SEATBELT' 'FLUSHOT6' 'FLSHTMY2' 'IMFVPLAC' 'PNEUVAC3' 'WHRTST10'\n",
      " 'PDIABTST' 'PREDIAB1' 'INSULIN' 'BLDSUGAR' 'DOCTDIAB' 'CHKHEMO3'\n",
      " 'FEETCHK' 'EYEEXAM' 'DIABEYE' 'DIABEDU' 'WTCHSALT' 'LONGWTCH' 'DRADVISE'\n",
      " 'HAREHAB1' 'STREHAB1' 'CVDASPRN' 'ASPUNSAF' 'RLIVPAIN' 'RDUCHART'\n",
      " 'RDUCSTRK' 'ARTTODAY' 'ARTHWGT' 'ARTHEXER' 'ARTHEDU' 'TETANUS' 'SHINGLE2'\n",
      " 'HADMAM' 'HADPAP2' 'HPVTEST' 'HADHYST2' 'BLDSTOOL' 'HADSIGM3' 'PSATEST1'\n",
      " 'SCNTMNY1' 'SCNTMEL1' 'SCNTLPAD' 'SCNTLWK1' 'EMTSUPRT' 'LSATISFY'\n",
      " 'ADPLEASR' 'ADDOWN' 'ADSLEEP' 'ADENERGY' 'ADEAT1' 'ADFAIL' 'ADTHINK'\n",
      " 'ADMOVE' 'MISTMNT' 'ADANXEV' 'MSCODE' '_RFHLTH' '_HCVU651' '_RFHYPE5'\n",
      " '_CHOLCHK' '_RFCHOL' '_LTASTH1' '_CASTHM1' '_ASTHMS1' '_DRDXAR1'\n",
      " '_MRACE1' '_HISPANC' '_RACEGR3' '_AGE80' 'HTM4' 'WTKG3' '_BMI5'\n",
      " '_BMI5CAT' '_RFBMI5' '_EDUCAG' '_INCOMG' '_SMOKER3' '_RFSMOK3' 'DRNKANY5'\n",
      " 'DROCDY3_' '_RFBING5' '_RFDRHV5' '_FRUTSUM' '_VEGESUM' '_FRTLT1'\n",
      " '_VEGLT1' '_TOTINDA' 'METVL11_' 'METVL21_' 'MAXVO2_' 'FC60_' 'ACTIN11_'\n",
      " 'ACTIN21_' 'PADUR1_' 'PADUR2_' 'PAFREQ1_' 'PAFREQ2_' '_MINAC11'\n",
      " '_MINAC21' 'STRFREQ_' 'PAMIN11_' 'PAMIN21_' 'PA1MIN_' 'PAVIG11_'\n",
      " 'PAVIG21_' 'PA1VIGM_' '_PACAT1' '_PAINDX1' '_RFSEAT2' '_FLSHOT6'\n",
      " '_PNEUMO2' '_AIDTST3']\n"
     ]
    }
   ],
   "source": [
    "print(indices_to_drop)\n",
    "print(header)"
   ]
  },
  {
   "cell_type": "code",
   "execution_count": 24,
   "metadata": {},
   "outputs": [
    {
     "data": {
      "text/plain": [
       "array([], dtype=int64)"
      ]
     },
     "execution_count": 24,
     "metadata": {},
     "output_type": "execute_result"
    }
   ],
   "source": [
    "discode_index = np.where(header == 'DISPCODE')[0][0]\n",
    "x_train = x_train[np.where(x_train[:, discode_index] != '1200.0')]\n"
   ]
  },
  {
   "cell_type": "code",
   "execution_count": 20,
   "metadata": {},
   "outputs": [],
   "source": [
    "with open('dataset/x_test_cleaned_mehdi.csv', 'w', newline='') as f:\n",
    "    writer = csv.writer(f)\n",
    "    writer.writerow(header)\n",
    "    writer.writerows(x_train)"
   ]
  },
  {
   "cell_type": "code",
   "execution_count": null,
   "metadata": {},
   "outputs": [],
   "source": []
  }
 ],
 "metadata": {
  "kernelspec": {
   "display_name": "ada",
   "language": "python",
   "name": "python3"
  },
  "language_info": {
   "codemirror_mode": {
    "name": "ipython",
    "version": 3
   },
   "file_extension": ".py",
   "mimetype": "text/x-python",
   "name": "python",
   "nbconvert_exporter": "python",
   "pygments_lexer": "ipython3",
   "version": "3.11.9"
  }
 },
 "nbformat": 4,
 "nbformat_minor": 2
}
