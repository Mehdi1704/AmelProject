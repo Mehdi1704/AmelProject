{
 "cells": [
  {
   "cell_type": "code",
   "execution_count": 2,
   "metadata": {},
   "outputs": [
    {
     "name": "stdout",
     "output_type": "stream",
     "text": [
      "(328135, 322)\n",
      "(328135, 184)\n"
     ]
    }
   ],
   "source": [
    "import numpy as np\n",
    "import csv\n",
    "\n",
    "# Function to read the header\n",
    "def read_header(file_path):\n",
    "    with open(file_path, 'r') as f:\n",
    "        reader = csv.reader(f)\n",
    "        header = next(reader)\n",
    "    return header\n",
    "\n",
    "# Read headers\n",
    "x_test_header = read_header('dataset/x_test.csv')\n",
    "y_train_header = read_header('dataset/y_train.csv')\n",
    "x_train_header = read_header('dataset/x_train.csv')\n",
    "\n",
    "# Load csvs x_test, y_test and x_train, skipping the header row\n",
    "x_test = np.genfromtxt('dataset/x_test.csv', delimiter=',', skip_header=1)\n",
    "y_train = np.genfromtxt('dataset/y_train.csv', delimiter=',', skip_header=1)\n",
    "x_train = np.genfromtxt('dataset/x_train.csv', delimiter=',', skip_header=1)\n",
    "x_train_cleaned = x_train.copy()\n",
    "x_test_cleaned = x_test.copy()\n",
    "\n",
    "\n",
    "columns_to_drop_by_name = [\n",
    "    \"FMONTH\", \"IDATE\", \"IMONTH\", \"IDAY\", \"IYEAR\", \"SEQNO\", \"_PSU\", \"LADULT\", \"CTELENUM\", \n",
    "    \"PVTRESD1\", \"COLGHOUS\", \"STATERES\", \"CELLFON3\", \"CTELNUM1\", \"CELLFON2\", \"CADULT\", \n",
    "    \"PVTRESD2\", \"CCLGHOUS\", \"CSTATE\", \"LANDLINE\", \"HHADULT\", \"NUMHHOL2\", \"NUMPHON2\", \n",
    "    \"CPDEMO1\", \"PREGNANT\", \"BLIND\", \"EXRACT11\", \"EXRACT21\", \"HIVTST6\", \"HIVTSTD3\", \n",
    "    \"PAINACT2\", \"QLMENTL2\", \"QLSTRES2\", \"QLHLTH2\", \"CAREGIV1\", \"CRGVREL1\", \"CRGVLNG1\", \n",
    "    \"CRGVHRS1\", \"CRGVPRB1\", \"CRGVPERS\", \"CRGVHOUS\", \"CRGVMST2\", \"CRGVEXPT\", \"VIDFCLT2\", \n",
    "    \"VIREDIF3\", \"VIPRFVS2\", \"VINOCRE2\", \"VIEYEXM2\", \"VIINSUR2\", \"VICTRCT4\", \"VIGLUMA2\", \n",
    "    \"VIMACDG2\", \"CIMEMLOS\", \"CDHOUSE\", \"CDASSIST\", \"CDHELP\", \"CDSOCIAL\", \"CDDISCUS\", \n",
    "    \"HOWLONG\", \"LASTPAP2\", \"HPLSTTST\", \"PROFEXAM\", \"LENGEXAM\", \"LSTBLDS3\", \"HADSGCO1\", \n",
    "    \"LASTSIG3\", \"PCPSAAD2\", \"PCPSADI1\", \"PCPSARE1\", \"PSATIME\", \"PCPSARS1\", \"PCPSADE1\", \n",
    "    \"PCDMDECN\", \"SCNTPAID\", \"SCNTWRK1\", \"SXORIENT\", \"TRNSGNDR\", \"RCSGENDR\", \"RCSRLTN2\", \n",
    "    \"CASTHDX2\", \"CASTHNO2\", \"QSTVER\", \"QSTLANG\", \"EXACTOT1\", \"EXACTOT2\", \"_STSTR\", \n",
    "    \"_STRWT\", \"_RAWRAKE\", \"_WT2RAKE\", \"_CHISPNC\", \"_CRACE1\", \"_CPRACE\", \"_CLLCPWT\", \n",
    "    \"_DUALUSE\", \"_DUALCOR\", \"_LLCPWT\", \"_PRACE1\", \"FEETCHK2\", \"PAINACT2\", \"QLMENTL2\", \n",
    "    \"QLSTRES2\", \"QLHLTH2\", \"CAREGIV1\", \"CRGVREL1\", \"CRGVLNG1\", \"CRGVHRS1\", \"CRGVPRB1\", \n",
    "    \"CRGVPERS\", \"CRGVHOUS\", \"CRGVMST2\", \"CRGVEXPT\", \"VIDFCLT2\", \"VIREDIF3\", \"VIPRFVS2\", \n",
    "    \"VINOCRE2\", \"VIEYEXM2\", \"VIINSUR2\", \"VICTRCT4\", \"VIGLUMA2\", \"VIMACDG2\", \"ASTHMAGE\", \n",
    "    \"ASATTACK\", \"ASERVIST\", \"ASDRVIST\", \"ASRCHKUP\", \"ASACTLIM\", \"ASYMPTOM\", \"ASNOSLEP\", \n",
    "    \"ASTHMED3\", \"ASINHALR\", \"HPVADVC2\", \"HPVADSHT\", \"_AGE_G\", \"HTIN4\", \"_CHLDCNT\", \n",
    "    \"_DRNKWEK\", \"FTJUDA1_\", \"FRUTDA1_\", \"BEANDAY_\", \"GRENDAY_\", \"ORNGDAY_\", \"VEGEDA1_\", \n",
    "    \"_MISFRTN\", \"_MISVEGN\", \"_FRTRESP\", \"_VEGRESP\", \"_FRT16\", \"_VEG23\", \"_FRUITEX\", \n",
    "    \"_VEGETEX\", \"PAMISS1_\", \"_PA150R2\", \"_PA300R2\", \"_PA30021\", \"_PASTRNG\", \"_PAREC1\", \n",
    "    \"_PASTAE1\", \"_LMTACT1\", \"_LMTWRK1\", \"_LMTSCL1\", \"_RFSEAT3\", \"_RACE\", \"_RACEG21\", \n",
    "    \"_RACE_G1\", \"_AGEG5YR\", \"_AGE65YR\"\n",
    "]\n",
    "\n",
    "# Convert column names to indices and combine with automatically identified columns\n",
    "columns_to_drop_by_index = []\n",
    "for i in range(x_train_cleaned.shape[1]): \n",
    "    unique_values = np.unique(x_train_cleaned[:, i][~np.isnan(x_train_cleaned[:, i])]) \n",
    "    if len(unique_values) == 1: \n",
    "        columns_to_drop_by_index.append(i)  # Append the index\n",
    "\n",
    "# Combine indices of manually specified columns and automatically detected ones\n",
    "columns_to_drop_indices = columns_to_drop_by_index + [i for i, col in enumerate(x_train_header) if col in columns_to_drop_by_name]\n",
    "\n",
    "# Drop these columns in both x_train and x_test\n",
    "x_train_cleaned = np.delete(x_train_cleaned, columns_to_drop_indices, axis=1)\n",
    "x_test_cleaned = np.delete(x_test_cleaned, columns_to_drop_indices, axis=1)\n",
    "\n",
    "# Drop the same columns from the headers\n",
    "x_train_header_cleaned = [col for i, col in enumerate(x_train_header) if i not in columns_to_drop_indices]\n",
    "x_test_header_cleaned = [col for i, col in enumerate(x_test_header) if i not in columns_to_drop_indices]\n",
    "\n",
    "\n",
    "\n",
    "# Save cleaned data with headers\n",
    "with open('dataset/x_train_cleaned.csv', 'w', newline='') as f:\n",
    "    writer = csv.writer(f)\n",
    "    writer.writerow(x_train_header_cleaned)\n",
    "    writer.writerows(x_train_cleaned)\n",
    "\n",
    "with open('dataset/x_test_cleaned.csv', 'w', newline='') as f:\n",
    "    writer = csv.writer(f)\n",
    "    writer.writerow(x_test_header_cleaned)\n",
    "    writer.writerows(x_test_cleaned)\n",
    "\n",
    "print(x_train.shape)\n",
    "print(x_train_cleaned.shape)\n"
   ]
  },
  {
   "cell_type": "code",
   "execution_count": 3,
   "metadata": {},
   "outputs": [
    {
     "name": "stdout",
     "output_type": "stream",
     "text": [
      "['Id', '_STATE', 'DISPCODE', 'NUMADULT', 'NUMMEN', 'NUMWOMEN', 'GENHLTH', 'PHYSHLTH', 'MENTHLTH', 'POORHLTH', 'HLTHPLN1', 'PERSDOC2', 'MEDCOST', 'CHECKUP1', 'BPHIGH4', 'BPMEDS', 'BLOODCHO', 'CHOLCHK', 'TOLDHI2', 'CVDSTRK3', 'ASTHMA3', 'ASTHNOW', 'CHCSCNCR', 'CHCOCNCR', 'CHCCOPD1', 'HAVARTH3', 'ADDEPEV2', 'CHCKIDNY', 'DIABETE3', 'DIABAGE2', 'SEX', 'MARITAL', 'EDUCA', 'RENTHOM1', 'VETERAN3', 'EMPLOY1', 'CHILDREN', 'INCOME2', 'INTERNET', 'WEIGHT2', 'HEIGHT3', 'QLACTLM2', 'USEEQUIP', 'DECIDE', 'DIFFWALK', 'DIFFDRES', 'DIFFALON', 'SMOKE100', 'SMOKDAY2', 'STOPSMK2', 'LASTSMK2', 'USENOW3', 'ALCDAY5', 'AVEDRNK2', 'DRNK3GE5', 'MAXDRNKS', 'FRUITJU1', 'FRUIT1', 'FVBEANS', 'FVGREEN', 'FVORANG', 'VEGETAB1', 'EXERANY2', 'EXEROFT1', 'EXERHMM1', 'EXEROFT2', 'EXERHMM2', 'STRENGTH', 'LMTJOIN3', 'ARTHDIS2', 'ARTHSOCL', 'JOINPAIN', 'SEATBELT', 'FLUSHOT6', 'FLSHTMY2', 'IMFVPLAC', 'PNEUVAC3', 'WHRTST10', 'PDIABTST', 'PREDIAB1', 'INSULIN', 'BLDSUGAR', 'DOCTDIAB', 'CHKHEMO3', 'FEETCHK', 'EYEEXAM', 'DIABEYE', 'DIABEDU', 'WTCHSALT', 'LONGWTCH', 'DRADVISE', 'HAREHAB1', 'STREHAB1', 'CVDASPRN', 'ASPUNSAF', 'RLIVPAIN', 'RDUCHART', 'RDUCSTRK', 'ARTTODAY', 'ARTHWGT', 'ARTHEXER', 'ARTHEDU', 'TETANUS', 'SHINGLE2', 'HADMAM', 'HADPAP2', 'HPVTEST', 'HADHYST2', 'BLDSTOOL', 'HADSIGM3', 'PSATEST1', 'SCNTMNY1', 'SCNTMEL1', 'SCNTLPAD', 'SCNTLWK1', 'EMTSUPRT', 'LSATISFY', 'ADPLEASR', 'ADDOWN', 'ADSLEEP', 'ADENERGY', 'ADEAT1', 'ADFAIL', 'ADTHINK', 'ADMOVE', 'MISTMNT', 'ADANXEV', 'MSCODE', '_RFHLTH', '_HCVU651', '_RFHYPE5', '_CHOLCHK', '_RFCHOL', '_LTASTH1', '_CASTHM1', '_ASTHMS1', '_DRDXAR1', '_MRACE1', '_HISPANC', '_RACEGR3', '_AGE80', 'HTM4', 'WTKG3', '_BMI5', '_BMI5CAT', '_RFBMI5', '_EDUCAG', '_INCOMG', '_SMOKER3', '_RFSMOK3', 'DRNKANY5', 'DROCDY3_', '_RFBING5', '_RFDRHV5', '_FRUTSUM', '_VEGESUM', '_FRTLT1', '_VEGLT1', '_TOTINDA', 'METVL11_', 'METVL21_', 'MAXVO2_', 'FC60_', 'ACTIN11_', 'ACTIN21_', 'PADUR1_', 'PADUR2_', 'PAFREQ1_', 'PAFREQ2_', '_MINAC11', '_MINAC21', 'STRFREQ_', 'PAMIN11_', 'PAMIN21_', 'PA1MIN_', 'PAVIG11_', 'PAVIG21_', 'PA1VIGM_', '_PACAT1', '_PAINDX1', '_RFSEAT2', '_FLSHOT6', '_PNEUMO2', '_AIDTST3']\n"
     ]
    }
   ],
   "source": [
    "#list the headers of the cleaned data\n",
    "print(x_train_header_cleaned)"
   ]
  }
 ],
 "metadata": {
  "kernelspec": {
   "display_name": "ada",
   "language": "python",
   "name": "python3"
  },
  "language_info": {
   "codemirror_mode": {
    "name": "ipython",
    "version": 3
   },
   "file_extension": ".py",
   "mimetype": "text/x-python",
   "name": "python",
   "nbconvert_exporter": "python",
   "pygments_lexer": "ipython3",
   "version": "3.11.10"
  }
 },
 "nbformat": 4,
 "nbformat_minor": 2
}
