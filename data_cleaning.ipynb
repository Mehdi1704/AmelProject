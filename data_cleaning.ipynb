{
 "cells": [
  {
   "cell_type": "code",
   "execution_count": 10,
   "metadata": {},
   "outputs": [
    {
     "name": "stdout",
     "output_type": "stream",
     "text": [
      "(328135, 322)\n",
      "(328135, 316)\n"
     ]
    }
   ],
   "source": [
    "import numpy as np\n",
    "import csv\n",
    "\n",
    "# Function to read the header\n",
    "def read_header(file_path):\n",
    "    with open(file_path, 'r') as f:\n",
    "        reader = csv.reader(f)\n",
    "        header = next(reader)\n",
    "    return header\n",
    "\n",
    "# Read headers\n",
    "x_test_header = read_header('dataset/x_test.csv')\n",
    "y_train_header = read_header('dataset/y_train.csv')\n",
    "x_train_header = read_header('dataset/x_train.csv')\n",
    "\n",
    "# Load csvs x_test, y_test and x_train, skipping the header row\n",
    "x_test = np.genfromtxt('dataset/x_test.csv', delimiter=',', skip_header=1)\n",
    "y_train = np.genfromtxt('dataset/y_train.csv', delimiter=',', skip_header=1)\n",
    "x_train = np.genfromtxt('dataset/x_train.csv', delimiter=',', skip_header=1)\n",
    "x_train_cleaned = x_train.copy()\n",
    "x_test_cleaned = x_test.copy()\n",
    "\n",
    "# Identify columns with only one distinct value or NaN \n",
    "columns_to_drop = [] \n",
    "for i in range(x_train_cleaned.shape[1]): \n",
    "    unique_values = np.unique(x_train_cleaned[:, i][~np.isnan(x_train_cleaned[:, i])]) \n",
    "    if len(unique_values) == 1: \n",
    "        columns_to_drop.append(i) \n",
    "\n",
    "# Drop these columns in both x_train and x_test \n",
    "x_train_cleaned = np.delete(x_train_cleaned, columns_to_drop, axis=1) \n",
    "x_test_cleaned = np.delete(x_test_cleaned, columns_to_drop, axis=1)\n",
    "\n",
    "# Drop the same columns from the headers\n",
    "x_train_header_cleaned = [col for i, col in enumerate(x_train_header) if i not in columns_to_drop]\n",
    "x_test_header_cleaned = [col for i, col in enumerate(x_test_header) if i not in columns_to_drop]\n",
    "\n",
    "# Save cleaned data with headers\n",
    "with open('dataset/x_train_cleaned.csv', 'w', newline='') as f:\n",
    "    writer = csv.writer(f)\n",
    "    writer.writerow(x_train_header_cleaned)\n",
    "    writer.writerows(x_train_cleaned)\n",
    "\n",
    "with open('dataset/x_test_cleaned.csv', 'w', newline='') as f:\n",
    "    writer = csv.writer(f)\n",
    "    writer.writerow(x_test_header_cleaned)\n",
    "    writer.writerows(x_test_cleaned)\n",
    "\n",
    "print(x_train.shape)\n",
    "print(x_train_cleaned.shape)"
   ]
  }
 ],
 "metadata": {
  "kernelspec": {
   "display_name": "ada",
   "language": "python",
   "name": "python3"
  },
  "language_info": {
   "codemirror_mode": {
    "name": "ipython",
    "version": 3
   },
   "file_extension": ".py",
   "mimetype": "text/x-python",
   "name": "python",
   "nbconvert_exporter": "python",
   "pygments_lexer": "ipython3",
   "version": "3.11.10"
  }
 },
 "nbformat": 4,
 "nbformat_minor": 2
}
