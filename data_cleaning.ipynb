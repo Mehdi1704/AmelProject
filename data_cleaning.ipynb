{
 "cells": [
  {
   "cell_type": "code",
   "execution_count": null,
   "metadata": {},
   "outputs": [],
   "source": [
    "import numpy as np\n",
    "import matplotlib.pyplot as plt\n",
    "import helpers\n",
    "import implementations"
   ]
  },
  {
   "cell_type": "code",
   "execution_count": null,
   "metadata": {},
   "outputs": [],
   "source": [
    "PATH_TO_DATA = \"input path here\""
   ]
  },
  {
   "cell_type": "code",
   "execution_count": null,
   "metadata": {},
   "outputs": [],
   "source": [
    "x_train, x_test, y_train, train_ids, test_ids = helpers.load_csv_data(PATH_TO_DATA, sub_sample=False)"
   ]
  },
  {
   "cell_type": "markdown",
   "metadata": {},
   "source": [
    "Here we should have some preprocessing/cleaning before running our implementations"
   ]
  },
  {
   "cell_type": "code",
   "execution_count": null,
   "metadata": {},
   "outputs": [],
   "source": []
  },
  {
   "cell_type": "code",
   "execution_count": null,
   "metadata": {},
   "outputs": [],
   "source": [
    "\n",
    "# Initialize parameters\n",
    "initial_w = np.zeros(x_train.shape[1])  # Initialize weights to zero, shape (D,)\n",
    "max_iters = 1000  # Number of iterations\n",
    "gamma = 0.01  # Learning rate\n",
    "\n",
    "# Run the gradient descent algorithm on the training data\n",
    "w, final_loss = implementations.mean_squared_error_gd(y_train, x_train, initial_w, max_iters, gamma)\n",
    "\n",
    "print(\"Final weights: \", w)\n",
    "print(\"Final training loss: \", final_loss)\n",
    "\n",
    "# Visualize loss over iterations\n",
    "def plot_loss_over_time(losses):\n",
    "    plt.plot(losses)\n",
    "    plt.xlabel('Iteration')\n",
    "    plt.ylabel('MSE Loss')\n",
    "    plt.title('Training Loss over Iterations')\n",
    "    plt.show()\n",
    "\n",
    "# Predictions and visualization\n",
    "def visualize_predictions(x, y_true, w):\n",
    "    \"\"\"Visualize the predicted vs true values.\"\"\"\n",
    "    y_pred = x.dot(w)\n",
    "    plt.scatter(y_true, y_pred)\n",
    "    plt.plot([min(y_true), max(y_true)], [min(y_true), max(y_true)], color='red')  # Diagonal line\n",
    "    plt.xlabel('True Values')\n",
    "    plt.ylabel('Predicted Values')\n",
    "    plt.title('True vs Predicted Values')\n",
    "    plt.show()\n",
    "\n",
    "# Visualize the results on the training set\n",
    "visualize_predictions(x_train, y_train, w)\n",
    "\n",
    "# Visualize the results on the test set\n",
    "# visualize_predictions(x_test, y_test, w)"
   ]
  }
 ],
 "metadata": {
  "language_info": {
   "name": "python"
  }
 },
 "nbformat": 4,
 "nbformat_minor": 2
}
